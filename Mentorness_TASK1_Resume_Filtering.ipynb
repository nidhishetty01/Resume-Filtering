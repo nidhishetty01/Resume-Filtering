{
 "cells": [
  {
   "cell_type": "code",
   "execution_count": 1,
   "id": "d73b914b",
   "metadata": {},
   "outputs": [
    {
     "name": "stderr",
     "output_type": "stream",
     "text": [
      "[nltk_data] Downloading package stopwords to\n",
      "[nltk_data]     C:\\Users\\Nidhi\\AppData\\Roaming\\nltk_data...\n",
      "[nltk_data]   Package stopwords is already up-to-date!\n"
     ]
    },
    {
     "data": {
      "text/plain": [
       "True"
      ]
     },
     "execution_count": 1,
     "metadata": {},
     "output_type": "execute_result"
    }
   ],
   "source": [
    "import os\n",
    "import re\n",
    "from PyPDF2 import PdfReader\n",
    "from sklearn.feature_extraction.text import TfidfVectorizer\n",
    "from sklearn.metrics.pairwise import cosine_similarity\n",
    "import nltk\n",
    "from nltk.corpus import stopwords\n",
    "\n",
    "# Download NLTK stopwords\n",
    "nltk.download('stopwords')\n"
   ]
  },
  {
   "cell_type": "code",
   "execution_count": 2,
   "id": "be201894",
   "metadata": {},
   "outputs": [],
   "source": [
    "# Function to extract text from PDF\n",
    "def extract_text_from_pdf(file_path):\n",
    "    reader = PdfReader(file_path)\n",
    "    text = \"\"\n",
    "    for page in reader.pages:\n",
    "        text += page.extract_text()\n",
    "    return text\n",
    "\n",
    "# Function to clean text\n",
    "def clean_text(text):\n",
    "    text = re.sub(r'\\W', ' ', text)\n",
    "    text = re.sub(r'\\s+', ' ', text)\n",
    "    text = text.lower()\n",
    "    text = ' '.join([word for word in text.split() if word not in stopwords.words('english')])\n",
    "    return text\n",
    "\n",
    "# Function to match resumes with job description\n",
    "def match_resumes(job_description, resume_texts):\n",
    "    vectorizer = TfidfVectorizer()\n",
    "    all_texts = [job_description] + resume_texts\n",
    "    tfidf_matrix = vectorizer.fit_transform(all_texts)\n",
    "    cosine_similarities = cosine_similarity(tfidf_matrix[0:1], tfidf_matrix[1:])\n",
    "    scores = cosine_similarities[0] *100\n",
    "    return scores\n"
   ]
  },
  {
   "cell_type": "code",
   "execution_count": 3,
   "id": "00187755",
   "metadata": {},
   "outputs": [],
   "source": [
    "# Directory paths\n",
    "job_description_dir = 'job_descriptions'\n",
    "resume_dir = 'resumes'\n"
   ]
  },
  {
   "cell_type": "code",
   "execution_count": 4,
   "id": "5b11bb2d",
   "metadata": {},
   "outputs": [],
   "source": [
    "# Extract and clean job descriptions\n",
    "job_descriptions = []\n",
    "for file_name in os.listdir(job_description_dir):\n",
    "    if file_name.endswith('.pdf'):\n",
    "        file_path = os.path.join(job_description_dir, file_name)\n",
    "        job_description_text = extract_text_from_pdf(file_path)\n",
    "        cleaned_text = clean_text(job_description_text)\n",
    "        job_descriptions.append(cleaned_text)\n"
   ]
  },
  {
   "cell_type": "code",
   "execution_count": 5,
   "id": "493fec7a",
   "metadata": {},
   "outputs": [],
   "source": [
    "# Extract and clean resumes\n",
    "resume_texts = []\n",
    "resume_files = []\n",
    "for file_name in os.listdir(resume_dir):\n",
    "    if file_name.endswith('.pdf'):\n",
    "        file_path = os.path.join(resume_dir, file_name)\n",
    "        resume_text = extract_text_from_pdf(file_path)\n",
    "        cleaned_text = clean_text(resume_text)\n",
    "        resume_texts.append(cleaned_text)\n",
    "        resume_files.append(file_name)\n"
   ]
  },
  {
   "cell_type": "code",
   "execution_count": 6,
   "id": "80677e48",
   "metadata": {},
   "outputs": [
    {
     "name": "stdout",
     "output_type": "stream",
     "text": [
      "\n",
      "Job Description 1 Matches:\n",
      "\n",
      "Resume: barry_allen_fe.pdf, Score: 28.57\n",
      "Resume: bruce_wayne_fullstack.pdf, Score: 16.18\n",
      "Resume: alfred_pennyworth_pm.pdf, Score: 14.11\n",
      "Resume: john_doe.pdf, Score: 12.36\n",
      "Resume: harvey_dent_mle.pdf, Score: 6.51\n",
      "\n",
      "Job Description 2 Matches:\n",
      "\n",
      "Resume: bruce_wayne_fullstack.pdf, Score: 16.91\n",
      "Resume: alfred_pennyworth_pm.pdf, Score: 16.36\n",
      "Resume: john_doe.pdf, Score: 15.58\n",
      "Resume: barry_allen_fe.pdf, Score: 15.06\n",
      "Resume: harvey_dent_mle.pdf, Score: 7.18\n",
      "\n",
      "Job Description 3 Matches:\n",
      "\n",
      "Resume: john_doe.pdf, Score: 30.43\n",
      "Resume: alfred_pennyworth_pm.pdf, Score: 20.39\n",
      "Resume: bruce_wayne_fullstack.pdf, Score: 15.61\n",
      "Resume: barry_allen_fe.pdf, Score: 9.57\n",
      "Resume: harvey_dent_mle.pdf, Score: 6.16\n",
      "\n",
      "Job Description 4 Matches:\n",
      "\n",
      "Resume: alfred_pennyworth_pm.pdf, Score: 23.19\n",
      "Resume: bruce_wayne_fullstack.pdf, Score: 8.10\n",
      "Resume: john_doe.pdf, Score: 7.93\n",
      "Resume: harvey_dent_mle.pdf, Score: 5.71\n",
      "Resume: barry_allen_fe.pdf, Score: 4.03\n"
     ]
    }
   ],
   "source": [
    "# Match each job description with resumes\n",
    "for i, job_description in enumerate(job_descriptions):\n",
    "    print(f\"\\nJob Description {i+1} Matches:\\n\")\n",
    "    scores = match_resumes(job_description, resume_texts)\n",
    "    ranked_resumes = sorted(zip(resume_files, scores), key=lambda x: x[1], reverse=True)\n",
    "    for resume, score in ranked_resumes:\n",
    "        print(f\"Resume: {resume}, Score: {score:.2f}\")\n"
   ]
  },
  {
   "cell_type": "code",
   "execution_count": null,
   "id": "5b9dec51",
   "metadata": {},
   "outputs": [],
   "source": []
  }
 ],
 "metadata": {
  "kernelspec": {
   "display_name": "Python 3 (ipykernel)",
   "language": "python",
   "name": "python3"
  },
  "language_info": {
   "codemirror_mode": {
    "name": "ipython",
    "version": 3
   },
   "file_extension": ".py",
   "mimetype": "text/x-python",
   "name": "python",
   "nbconvert_exporter": "python",
   "pygments_lexer": "ipython3",
   "version": "3.11.5"
  }
 },
 "nbformat": 4,
 "nbformat_minor": 5
}
